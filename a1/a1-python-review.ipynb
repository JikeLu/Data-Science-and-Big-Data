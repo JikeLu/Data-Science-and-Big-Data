{
 "cells": [
  {
   "cell_type": "markdown",
   "id": "090dc517",
   "metadata": {},
   "source": [
    "**Jike Lu, jikelu**"
   ]
  },
  {
   "cell_type": "markdown",
   "id": "24a287bf",
   "metadata": {},
   "source": [
    "A function time_diff which takes a start time and an end time in military time notation returns the number of hours and minutes between the two times:"
   ]
  },
  {
   "cell_type": "code",
   "execution_count": 1,
   "id": "e0702948",
   "metadata": {},
   "outputs": [
    {
     "name": "stdout",
     "output_type": "stream",
     "text": [
      "(8, 30)\n",
      "(15, 30)\n"
     ]
    }
   ],
   "source": [
    "def time_diff(start, end):\n",
    "    start_hour, start_minute = int(start[:2]), int(start[2:])\n",
    "    end_hour, end_minute = int(end[:2]), int(end[2:])\n",
    "    \n",
    "    start_total_minutes = start_hour * 60 + start_minute\n",
    "    end_total_minutes = end_hour * 60 + end_minute\n",
    "    \n",
    "    if end_total_minutes < start_total_minutes:\n",
    "        diff = (24 * 60 - start_total_minutes) + end_total_minutes\n",
    "    else:\n",
    "        diff = end_total_minutes - start_total_minutes\n",
    "    hours = diff // 60\n",
    "    minutes = diff % 60\n",
    "    \n",
    "    return (hours, minutes)\n",
    "\n",
    "print(time_diff('0900', '1730'))\n",
    "print(time_diff('1730', '0900'))"
   ]
  },
  {
   "cell_type": "markdown",
   "id": "727f2249",
   "metadata": {},
   "source": [
    "**proper_divisors(n)** which returns a list of all the proper divisors of n.\n",
    "\n",
    "**amicable_numbers(n)** which will find all the pairs of amicable numbers less than or equal\n",
    "to n."
   ]
  },
  {
   "cell_type": "code",
   "execution_count": 2,
   "id": "b2ae48be",
   "metadata": {},
   "outputs": [
    {
     "name": "stdout",
     "output_type": "stream",
     "text": [
      "[(220, 284), (1184, 1210), (2620, 2924), (5020, 5564), (6232, 6368)]\n"
     ]
    }
   ],
   "source": [
    "def proper_divisors(n):\n",
    "    return [i for i in range(1, n//2 + 1) if n % i == 0]\n",
    "\n",
    "def amicable_numbers(n):\n",
    "    sum_divisors = {i: sum(proper_divisors(i)) for i in range(1, n+1)}\n",
    "    \n",
    "    amicable_pairs = []\n",
    "    \n",
    "    for a in range(1, n+1):\n",
    "        b = sum_divisors[a]\n",
    "        if b != a and b <= n and sum_divisors.get(b, 0) == a:\n",
    "            if (b, a) not in amicable_pairs:\n",
    "                amicable_pairs.append((a, b))\n",
    "    \n",
    "    return amicable_pairs\n",
    "\n",
    "print(amicable_numbers(10000))"
   ]
  },
  {
   "cell_type": "markdown",
   "id": "dddc2dc9",
   "metadata": {},
   "source": [
    "A function to convert from arabic numerals to roman numerals."
   ]
  },
  {
   "cell_type": "code",
   "execution_count": 4,
   "id": "3a05d9b8",
   "metadata": {},
   "outputs": [
    {
     "name": "stdout",
     "output_type": "stream",
     "text": [
      "III\n",
      "XLVIII\n",
      "MMXXIV\n"
     ]
    }
   ],
   "source": [
    "def arabic2roman(number):\n",
    "    roman_numerals = [(\"M\", 1000), (\"CM\", 900), (\"D\", 500), (\"CD\", 400), \n",
    "                      (\"C\", 100), (\"XC\", 90), (\"L\", 50), (\"XL\", 40), \n",
    "                      (\"X\", 10), (\"IX\", 9), (\"V\", 5), (\"IV\", 4), (\"I\", 1)]\n",
    "    \n",
    "    roman_string = \"\"\n",
    "    \n",
    "    for roman, value in roman_numerals:\n",
    "        while number >= value:\n",
    "            roman_string += roman\n",
    "            number -= value\n",
    "    \n",
    "    return roman_string\n",
    "\n",
    "print(arabic2roman(3))    \n",
    "print(arabic2roman(48))   \n",
    "print(arabic2roman(2024)) "
   ]
  },
  {
   "cell_type": "markdown",
   "id": "2f474f89",
   "metadata": {},
   "source": [
    "Encode tracks the index of each city in the dynamically shrinking list of cities as we remove each city according to its order in the tour."
   ]
  },
  {
   "cell_type": "code",
   "execution_count": 5,
   "id": "cd7e431b",
   "metadata": {},
   "outputs": [],
   "source": [
    "def encode(tour):\n",
    "    standard_order = list('ABCDEF')\n",
    "    remaining_cities = standard_order.copy()\n",
    "    encoding = []\n",
    "    \n",
    "    for city in tour:\n",
    "        index = remaining_cities.index(city)\n",
    "        encoding.append(index)\n",
    "        remaining_cities.remove(city)\n",
    "        \n",
    "    return encoding"
   ]
  },
  {
   "cell_type": "markdown",
   "id": "35103e5a",
   "metadata": {},
   "source": [
    "Decode reconstructs the tour from the encoded sequence by iteratively inserting cities based on the indices given in the sequence."
   ]
  },
  {
   "cell_type": "code",
   "execution_count": 6,
   "id": "15f7a397",
   "metadata": {},
   "outputs": [],
   "source": [
    "def decode(encoding):\n",
    "    standard_order = list('ABCDEF') \n",
    "    tour = []\n",
    "    remaining_cities = standard_order.copy()\n",
    "    \n",
    "    for index in encoding:\n",
    "        city = remaining_cities[index]\n",
    "        tour.append(city)\n",
    "        remaining_cities.remove(city)\n",
    "    \n",
    "    return ''.join(tour)"
   ]
  },
  {
   "cell_type": "markdown",
   "id": "0a1f2ff3",
   "metadata": {},
   "source": [
    "Run the code"
   ]
  },
  {
   "cell_type": "code",
   "execution_count": 7,
   "id": "558c4725",
   "metadata": {},
   "outputs": [
    {
     "name": "stdout",
     "output_type": "stream",
     "text": [
      "Encoded: [1, 2, 0, 2, 0, 0]\n",
      "Decoded: BDAFCE\n"
     ]
    }
   ],
   "source": [
    "encoded = encode('BDAFCE')\n",
    "decoded = decode(encoded)\n",
    "\n",
    "print(\"Encoded:\", encoded)\n",
    "print(\"Decoded:\", decoded)"
   ]
  },
  {
   "cell_type": "markdown",
   "id": "7278b110",
   "metadata": {},
   "source": [
    "A function that will take a dense matrix and return the equivalent sparse representation."
   ]
  },
  {
   "cell_type": "code",
   "execution_count": 9,
   "id": "dc7ed005",
   "metadata": {},
   "outputs": [
    {
     "name": "stdout",
     "output_type": "stream",
     "text": [
      "[(0, 0, 1), (0, 2, 2), (1, 2, 3)]\n"
     ]
    }
   ],
   "source": [
    "def dense2sparse(matrix):\n",
    "    ans = [(i, j, value) for i, row in enumerate(matrix) for j, value in enumerate(row) if value != 0]\n",
    "    return ans\n",
    "\n",
    "dense_matrix = [\n",
    "    [1, 0, 2],\n",
    "    [0, 0, 3]\n",
    "]\n",
    "sparse_matrix = dense2sparse(dense_matrix)\n",
    "print(sparse_matrix)"
   ]
  },
  {
   "cell_type": "markdown",
   "id": "3491393e",
   "metadata": {},
   "source": [
    "Generate each row of the triangle from the previous row and iteratively build the Pascal's triangle."
   ]
  },
  {
   "cell_type": "code",
   "execution_count": 14,
   "id": "aacb55a2",
   "metadata": {},
   "outputs": [
    {
     "name": "stdout",
     "output_type": "stream",
     "text": [
      "[[1]]\n",
      "[[1], [1, 1]]\n",
      "[[1], [1, 1], [1, 2, 1]]\n",
      "[[1], [1, 1], [1, 2, 1], [1, 3, 3, 1]]\n"
     ]
    }
   ],
   "source": [
    "def pascal_triangle(n):\n",
    "    if n < 0:\n",
    "        return []\n",
    "    \n",
    "    triangle = [[1]]\n",
    "\n",
    "    for i in range(1, n+1):\n",
    "        row = [1]\n",
    "        for j in range(1, i):\n",
    "            row.append(triangle[i-1][j-1] + triangle[i-1][j])\n",
    "        row.append(1)\n",
    "        triangle.append(row)\n",
    "\n",
    "    return triangle\n",
    "\n",
    "print(pascal_triangle(0))\n",
    "print(pascal_triangle(1))\n",
    "print(pascal_triangle(2))\n",
    "print(pascal_triangle(3)) "
   ]
  },
  {
   "cell_type": "markdown",
   "id": "f04721f5",
   "metadata": {},
   "source": [
    "Parse a string representation of a functional dependency into a tuple of sets."
   ]
  },
  {
   "cell_type": "code",
   "execution_count": 10,
   "id": "e4f089a8",
   "metadata": {},
   "outputs": [],
   "source": [
    "def parse_fd(fd):\n",
    "    parts = fd.split('->')\n",
    "    lhs_set = set(parts[0].strip().split())\n",
    "    rhs_set = set(parts[1].strip().split())\n",
    "    return (lhs_set, rhs_set)"
   ]
  },
  {
   "cell_type": "markdown",
   "id": "f2686a25",
   "metadata": {},
   "source": [
    "Return the left-hand and right-hand side of the functional dependency."
   ]
  },
  {
   "cell_type": "code",
   "execution_count": 11,
   "id": "8a655551",
   "metadata": {},
   "outputs": [],
   "source": [
    "def lhs(fd_tuple):\n",
    "    return fd_tuple[0]\n",
    "\n",
    "def rhs(fd_tuple):\n",
    "    return fd_tuple[1]"
   ]
  },
  {
   "cell_type": "markdown",
   "id": "e41e7952",
   "metadata": {},
   "source": [
    "Determine the closure of a set of attributes given a set of functional dependencies."
   ]
  },
  {
   "cell_type": "code",
   "execution_count": 13,
   "id": "3ee511e5",
   "metadata": {},
   "outputs": [
    {
     "name": "stdout",
     "output_type": "stream",
     "text": [
      "{'E', 'D', 'A'}\n",
      "{'E', 'A', 'C', 'D', 'B'}\n",
      "{'B'}\n"
     ]
    }
   ],
   "source": [
    "def closure(fds, attributes):\n",
    "    attribute_set = set(attributes.split())\n",
    "    fds_list = [parse_fd(fd) for fd in fds.strip().split('\\n') if fd.strip()]\n",
    "    closure_set = attribute_set.copy()\n",
    "    \n",
    "    while True:\n",
    "        new_attributes_added = False\n",
    "        for fd in fds_list:\n",
    "            if lhs(fd).issubset(closure_set) and not rhs(fd).issubset(closure_set):\n",
    "                closure_set.update(rhs(fd))\n",
    "                new_attributes_added = True\n",
    "        if not new_attributes_added:\n",
    "            break\n",
    "    \n",
    "    return closure_set\n",
    "\n",
    "FDs_1 = '''\n",
    "A -> D\n",
    "A B -> C\n",
    "D -> E\n",
    "A C -> B\n",
    "'''\n",
    "print(closure(FDs_1, 'A'))\n",
    "print(closure(FDs_1, 'A B'))\n",
    "print(closure(FDs_1, 'B'))"
   ]
  }
 ],
 "metadata": {
  "kernelspec": {
   "display_name": "Python 3 (ipykernel)",
   "language": "python",
   "name": "python3"
  },
  "language_info": {
   "codemirror_mode": {
    "name": "ipython",
    "version": 3
   },
   "file_extension": ".py",
   "mimetype": "text/x-python",
   "name": "python",
   "nbconvert_exporter": "python",
   "pygments_lexer": "ipython3",
   "version": "3.9.12"
  }
 },
 "nbformat": 4,
 "nbformat_minor": 5
}
