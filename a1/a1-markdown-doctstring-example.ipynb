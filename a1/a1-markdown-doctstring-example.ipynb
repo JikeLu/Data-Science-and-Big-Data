{
 "cells": [
  {
   "cell_type": "markdown",
   "metadata": {},
   "source": [
    "## Illustrating Markdown comments and docstrings\n",
    "\n",
    "Raja / Data Science, Fall 2024\n",
    "\n",
    "Jike Lu, jikelu"
   ]
  },
  {
   "cell_type": "code",
   "execution_count": 1,
   "metadata": {},
   "outputs": [],
   "source": [
    "P = print  # just a short hand"
   ]
  },
  {
   "cell_type": "markdown",
   "metadata": {},
   "source": [
    "### [1] parse_hms, hms_to_seconds, seconds_to_hms, sum_hms"
   ]
  },
  {
   "cell_type": "markdown",
   "metadata": {},
   "source": [
    "**(i) parse_hms** takes a string representation of a time duration and returns a triple of hours, minutes, and seconds."
   ]
  },
  {
   "cell_type": "code",
   "execution_count": 2,
   "metadata": {},
   "outputs": [],
   "source": [
    "def parse_hms(hms):\n",
    "    '''\n",
    "    Convert a string of the form h:m:s to a tuple of integers (h, m, s).\n",
    "    Just m:s will be converted to (0, m, s) and\n",
    "    Just s will be converted to (0, 0, s)\n",
    "\n",
    "    parse_hms('2:34:16') -> (2, 34, 16)\n",
    "    parse_hms('45:00') -> (0, 45, 0)\n",
    "    parse_hms('23') -> (0, 0, 23)\n",
    "    '''\n",
    "    ary = hms.split(':')\n",
    "    iary = [int(x) for x in ary]\n",
    "    h,m,s = (0,0,0)\n",
    "    if len(iary) == 1:\n",
    "        s, *_ = iary   # s = iary[0]\n",
    "    elif len(iary) == 2:\n",
    "        m, s = iary\n",
    "    else:\n",
    "        h,m,s = iary\n",
    "    return h, m ,s"
   ]
  },
  {
   "cell_type": "code",
   "execution_count": 3,
   "metadata": {},
   "outputs": [
    {
     "name": "stdout",
     "output_type": "stream",
     "text": [
      "(2, 34, 16)\n",
      "(14, 21, 56)\n",
      "(0, 45, 0)\n",
      "(0, 0, 23)\n",
      "(0, 65, 72)\n"
     ]
    }
   ],
   "source": [
    "P (parse_hms('2:34:16'))  # -> (2, 34 16)\n",
    "P (parse_hms('14:21:56')) # -> (14, 21, 56)\n",
    "P (parse_hms('45:00'))  # -> (0, 45, 0)\n",
    "P (parse_hms('23')) # -> (0, 0, 23)\n",
    "P (parse_hms('65:72')) # -> (0, 65, 72)"
   ]
  },
  {
   "cell_type": "markdown",
   "metadata": {},
   "source": [
    "**(ii) hms_to_seconds** takes three arguments, hours, minutes, and seconds and returns the equivalent total number of seconds.  "
   ]
  },
  {
   "cell_type": "code",
   "execution_count": 4,
   "metadata": {},
   "outputs": [
    {
     "ename": "SyntaxError",
     "evalue": "unexpected EOF while parsing (1352107517.py, line 1)",
     "output_type": "error",
     "traceback": [
      "\u001b[1;36m  Input \u001b[1;32mIn [4]\u001b[1;36m\u001b[0m\n\u001b[1;33m    parse_hms(\u001b[0m\n\u001b[1;37m              ^\u001b[0m\n\u001b[1;31mSyntaxError\u001b[0m\u001b[1;31m:\u001b[0m unexpected EOF while parsing\n"
     ]
    }
   ],
   "source": [
    "parse_hms("
   ]
  },
  {
   "cell_type": "code",
   "execution_count": 4,
   "metadata": {},
   "outputs": [],
   "source": [
    "def hms_to_seconds(h, m, s):\n",
    "    '''\n",
    "    Convert a time expressed as a triple (hours, minutes, seconds) to seconds\n",
    "    \n",
    "    hms_to_seconds(1,23,24) -> 5004\n",
    "    '''\n",
    "    return h*60*60 + m*60 + s"
   ]
  },
  {
   "cell_type": "code",
   "execution_count": 5,
   "metadata": {},
   "outputs": [
    {
     "name": "stdout",
     "output_type": "stream",
     "text": [
      "5004\n",
      "2017\n"
     ]
    }
   ],
   "source": [
    "P (hms_to_seconds(1,23,24)) # -> 5004\n",
    "P (hms_to_seconds(0,33,37)) # -> 2017"
   ]
  },
  {
   "cell_type": "markdown",
   "metadata": {},
   "source": [
    "**(iii) seconds_to_hms** is the converse of hms_to_seconds.  It takes a number of seconds returns the equivalent in hours, minutes, and seconds. "
   ]
  },
  {
   "cell_type": "code",
   "execution_count": 6,
   "metadata": {},
   "outputs": [],
   "source": [
    "def seconds_to_hms(s):\n",
    "    ''' \n",
    "    Convert seconds to (hours, minutes, seconds)\n",
    "    \n",
    "    seconds_to_hms(2019) -> (0, 33, 39)\n",
    "    '''\n",
    "    h = s // (60*60)\n",
    "    s = s - h*(60*60)\n",
    "    m = s // 60\n",
    "    s = s - m*60\n",
    "    return h, m, s"
   ]
  },
  {
   "cell_type": "code",
   "execution_count": 7,
   "metadata": {},
   "outputs": [
    {
     "name": "stdout",
     "output_type": "stream",
     "text": [
      "(0, 33, 39)\n",
      "(0, 0, 0)\n",
      "1234\n",
      "54321\n"
     ]
    }
   ],
   "source": [
    "P ( seconds_to_hms(2019) ) # -> (0, 33, 39)\n",
    "P ( seconds_to_hms(0))     # -> (0,0,0)\n",
    "P ( hms_to_seconds(*seconds_to_hms(1234))) #  -> 1234\n",
    "h, m, s = seconds_to_hms(54321)\n",
    "P( hms_to_seconds(h,m,s))  # -> 54321"
   ]
  },
  {
   "cell_type": "markdown",
   "metadata": {},
   "source": [
    "**(iv) sum_hms** takes an array of strings representing time durations and adds them.  "
   ]
  },
  {
   "cell_type": "code",
   "execution_count": 8,
   "metadata": {},
   "outputs": [],
   "source": [
    "def sum_hms(ary):\n",
    "    '''\n",
    "    Given an array of time strings of the format h:m:s or m:s or s\n",
    "    return a tuple representing the summed time\n",
    "    \n",
    "    sum_hms(['1:24',  '2:34:45']) -> (2, 36, 9)\n",
    "    '''\n",
    "    a1 = [parse_hms(s) for s in ary]\n",
    "    a2 = [hms_to_seconds(h,m,s) for h, m, s in a1]\n",
    "    total = sum(a2)\n",
    "    return seconds_to_hms(total)"
   ]
  },
  {
   "cell_type": "code",
   "execution_count": 9,
   "metadata": {},
   "outputs": [
    {
     "name": "stdout",
     "output_type": "stream",
     "text": [
      "(0, 3, 20)\n",
      "(2, 36, 9)\n",
      "(3, 23, 45)\n",
      "(1, 6, 12)\n",
      "(0, 0, 0)\n"
     ]
    }
   ],
   "source": [
    "P(sum_hms(['45', '2:35'])) # -> (0, 3, 20)\n",
    "P(sum_hms(['1:24',  '2:34:45']))  # -> (2, 36, 9)\n",
    "P(sum_hms(['3:00:00', '00:23:00', '0:0:45'])) # -> (3, 23, 45)\n",
    "P(sum_hms(['65:72']))\n",
    "P(sum_hms([])) # -> (0,0,0)"
   ]
  },
  {
   "cell_type": "markdown",
   "metadata": {},
   "source": [
    "Generate each row of the triangle from the previous row and iteratively build the Pascal's triangle."
   ]
  },
  {
   "cell_type": "code",
   "execution_count": 5,
   "metadata": {},
   "outputs": [
    {
     "name": "stdout",
     "output_type": "stream",
     "text": [
      "[[1]]\n",
      "[[1], [1, 1]]\n",
      "[[1], [1, 1], [1, 2, 1]]\n",
      "[[1], [1, 1], [1, 2, 1], [1, 3, 3, 1]]\n"
     ]
    }
   ],
   "source": [
    "def pascal_triangle(n):\n",
    "    if n < 0:\n",
    "        return []\n",
    "    \n",
    "    triangle = [[1]]\n",
    "\n",
    "    for i in range(1, n+1):\n",
    "        row = [1]\n",
    "        for j in range(1, i):\n",
    "            row.append(triangle[i-1][j-1] + triangle[i-1][j])\n",
    "        row.append(1)\n",
    "        triangle.append(row)\n",
    "\n",
    "    return triangle\n",
    "\n",
    "print(pascal_triangle(0))\n",
    "print(pascal_triangle(1))\n",
    "print(pascal_triangle(2))\n",
    "print(pascal_triangle(3)) "
   ]
  },
  {
   "cell_type": "markdown",
   "metadata": {},
   "source": []
  },
  {
   "cell_type": "code",
   "execution_count": 6,
   "metadata": {},
   "outputs": [
    {
     "name": "stdout",
     "output_type": "stream",
     "text": [
      "{'A', 'E', 'D'}\n",
      "{'A', 'D', 'B', 'E', 'C'}\n",
      "{'B'}\n"
     ]
    }
   ],
   "source": [
    "def parse_fd(fd):\n",
    "    \"\"\"\n",
    "    Parse a string representation of a functional dependency into a tuple of sets.\n",
    "    \n",
    "    Args:\n",
    "    fd (str): A string representation of a functional dependency, e.g., 'A B -> C'.\n",
    "    \n",
    "    Returns:\n",
    "    tuple: A tuple of two sets (lhs_set, rhs_set).\n",
    "    \"\"\"\n",
    "    parts = fd.split('->')\n",
    "    lhs_set = set(parts[0].strip().split())\n",
    "    rhs_set = set(parts[1].strip().split())\n",
    "    return (lhs_set, rhs_set)"
   ]
  },
  {
   "cell_type": "markdown",
   "metadata": {},
   "source": []
  },
  {
   "cell_type": "code",
   "execution_count": null,
   "metadata": {},
   "outputs": [],
   "source": [
    "def lhs(fd_tuple):\n",
    "    \"\"\"Return the left-hand side of the functional dependency.\"\"\"\n",
    "    return fd_tuple[0]\n",
    "\n",
    "def rhs(fd_tuple):\n",
    "    \"\"\"Return the right-hand side of the functional dependency.\"\"\"\n",
    "    return fd_tuple[1]"
   ]
  },
  {
   "cell_type": "code",
   "execution_count": null,
   "metadata": {},
   "outputs": [],
   "source": [
    "def closure(fds, attributes):\n",
    "    \"\"\"\n",
    "    Determine the closure of a set of attributes given a set of functional dependencies.\n",
    "    \n",
    "    Args:\n",
    "    fds (str): A multi-line string of individual functional dependencies.\n",
    "    attributes (str): A string of attributes for which the closure is determined.\n",
    "    \n",
    "    Returns:\n",
    "    set: The closure of the input attribute set.\n",
    "    \"\"\"\n",
    "    # Convert the input string of attributes to a set\n",
    "    attribute_set = set(attributes.split())\n",
    "    # Parse the functional dependencies\n",
    "    fds_list = [parse_fd(fd) for fd in fds.strip().split('\\n') if fd.strip()]\n",
    "    \n",
    "    # Initialize closure with the initial set of attributes\n",
    "    closure_set = attribute_set.copy()\n",
    "    \n",
    "    # Apply functional dependencies iteratively until no new attributes can be added\n",
    "    while True:\n",
    "        new_attributes_added = False\n",
    "        for fd in fds_list:\n",
    "            if lhs(fd).issubset(closure_set) and not rhs(fd).issubset(closure_set):\n",
    "                closure_set.update(rhs(fd))\n",
    "                new_attributes_added = True\n",
    "        if not new_attributes_added:\n",
    "            break\n",
    "    \n",
    "    return closure_set\n",
    "\n",
    "# Example usage:\n",
    "FDs_1 = '''\n",
    "A B -> C\n",
    "A -> D\n",
    "D -> E\n",
    "A C -> B\n",
    "'''\n",
    "print(closure(FDs_1, 'A'))\n",
    "print(closure(FDs_1, 'A B'))\n",
    "print(closure(FDs_1, 'B'))"
   ]
  }
 ],
 "metadata": {
  "kernelspec": {
   "display_name": "Python 3 (ipykernel)",
   "language": "python",
   "name": "python3"
  },
  "language_info": {
   "codemirror_mode": {
    "name": "ipython",
    "version": 3
   },
   "file_extension": ".py",
   "mimetype": "text/x-python",
   "name": "python",
   "nbconvert_exporter": "python",
   "pygments_lexer": "ipython3",
   "version": "3.9.12"
  },
  "vscode": {
   "interpreter": {
    "hash": "f32023d3187841795697d47a9066836f1d96daf3799e179b4995fcdf98db168e"
   }
  }
 },
 "nbformat": 4,
 "nbformat_minor": 4
}
