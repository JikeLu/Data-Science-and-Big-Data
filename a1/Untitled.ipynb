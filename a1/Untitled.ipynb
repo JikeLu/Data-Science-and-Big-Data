{
 "cells": [
  {
   "cell_type": "code",
   "execution_count": 4,
   "id": "ad2d15f5-6ae4-46c9-af74-42d15809b60f",
   "metadata": {},
   "outputs": [
    {
     "data": {
      "text/plain": [
       "1.4142135623730951"
      ]
     },
     "execution_count": 4,
     "metadata": {},
     "output_type": "execute_result"
    }
   ],
   "source": [
    "from math import sqrt \n",
    "\n",
    "def euclidean_distance( p1, p2 ):\n",
    "    '''\n",
    "    Calculates the euclidean distance between the two points.\n",
    "\n",
    "    euclidean_distance(  (0,0),  (1,1)  ) -> 1.414\n",
    "    '''\n",
    "    x1, y1 = p1\n",
    "    x2, y2 = p2\n",
    "    dist = sqrt( (x1-x2)**2 + (y1-y2)**2 )\n",
    "    return dist\n",
    "    \n",
    "euclidean_distance( (0,0), (1,1) )"
   ]
  },
  {
   "cell_type": "code",
   "execution_count": 3,
   "id": "203d2f45-257a-42ea-959d-cb68d2e3e677",
   "metadata": {},
   "outputs": [
    {
     "data": {
      "text/plain": [
       "\u001b[0;31mSignature:\u001b[0m \u001b[0meuclidean_distance\u001b[0m\u001b[0;34m(\u001b[0m\u001b[0mp1\u001b[0m\u001b[0;34m,\u001b[0m \u001b[0mp2\u001b[0m\u001b[0;34m)\u001b[0m\u001b[0;34m\u001b[0m\u001b[0;34m\u001b[0m\u001b[0m\n",
       "\u001b[0;31mDocstring:\u001b[0m\n",
       "Calculates the euclidean distance between the two points.\n",
       "\n",
       "euclidean_distance(  (0,0),  (1,1)  ) -> 1.414\n",
       "\u001b[0;31mFile:\u001b[0m      /var/folders/f9/wmgw69mx4kddfzvxmtb7_kkh0000gn/T/ipykernel_3615/2653483234.py\n",
       "\u001b[0;31mType:\u001b[0m      function"
      ]
     },
     "metadata": {},
     "output_type": "display_data"
    }
   ],
   "source": [
    "euclidean_distance?"
   ]
  },
  {
   "cell_type": "code",
   "execution_count": null,
   "id": "792cdec4-9a14-40db-8371-1bf8d4791e16",
   "metadata": {},
   "outputs": [],
   "source": []
  }
 ],
 "metadata": {
  "kernelspec": {
   "display_name": "Python 3 (ipykernel)",
   "language": "python",
   "name": "python3"
  },
  "language_info": {
   "codemirror_mode": {
    "name": "ipython",
    "version": 3
   },
   "file_extension": ".py",
   "mimetype": "text/x-python",
   "name": "python",
   "nbconvert_exporter": "python",
   "pygments_lexer": "ipython3",
   "version": "3.12.4"
  }
 },
 "nbformat": 4,
 "nbformat_minor": 5
}
