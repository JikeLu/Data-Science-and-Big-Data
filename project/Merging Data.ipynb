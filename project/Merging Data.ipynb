{
 "cells": [
  {
   "cell_type": "code",
   "execution_count": 1,
   "id": "2995412a",
   "metadata": {},
   "outputs": [
    {
     "name": "stderr",
     "output_type": "stream",
     "text": [
      "E:\\Anaconda\\lib\\site-packages\\pandas\\core\\computation\\expressions.py:21: UserWarning: Pandas requires version '2.8.4' or newer of 'numexpr' (version '2.8.1' currently installed).\n",
      "  from pandas.core.computation.check import NUMEXPR_INSTALLED\n",
      "E:\\Anaconda\\lib\\site-packages\\pandas\\core\\arrays\\masked.py:60: UserWarning: Pandas requires version '1.3.6' or newer of 'bottleneck' (version '1.3.4' currently installed).\n",
      "  from pandas.core import (\n"
     ]
    }
   ],
   "source": [
    "import pandas as pd"
   ]
  },
  {
   "cell_type": "code",
   "execution_count": 3,
   "id": "d6981211",
   "metadata": {},
   "outputs": [],
   "source": [
    "# Load the datasets\n",
    "df1 = pd.read_csv(\"global_ai_ml_data_salaries.csv\")\n",
    "df2 = pd.read_csv(\"Salary.csv\")\n",
    "\n",
    "df3 = pd.read_csv(\"Latest_Data_Science_Salaries.csv\")\n"
   ]
  },
  {
   "cell_type": "code",
   "execution_count": 4,
   "id": "666606a3",
   "metadata": {},
   "outputs": [],
   "source": [
    "df1_us = df1[df1['company_location'].str.upper() == 'US']\n",
    "df2_usa = df2[df2['Country'].str.upper() == 'USA']\n",
    "df3_usa = df3[df3['Company Location'].str.upper() == 'United States']"
   ]
  },
  {
   "cell_type": "code",
   "execution_count": 5,
   "id": "5dd0542f",
   "metadata": {},
   "outputs": [
    {
     "name": "stderr",
     "output_type": "stream",
     "text": [
      "C:\\Users\\JkL\\AppData\\Local\\Temp\\ipykernel_18120\\1881782837.py:12: SettingWithCopyWarning: \n",
      "A value is trying to be set on a copy of a slice from a DataFrame.\n",
      "Try using .loc[row_indexer,col_indexer] = value instead\n",
      "\n",
      "See the caveats in the documentation: https://pandas.pydata.org/pandas-docs/stable/user_guide/indexing.html#returning-a-view-versus-a-copy\n",
      "  df2_usa['experience_level'] = df2_usa['Years of Experience'].apply(map_experience)\n"
     ]
    }
   ],
   "source": [
    "def map_experience(years):\n",
    "    if years < 2:\n",
    "        return 'EN' \n",
    "    elif years < 5:\n",
    "        return 'MI' \n",
    "    elif years < 10:\n",
    "        return 'SE' \n",
    "    else:\n",
    "        return 'EX' \n",
    "\n",
    "# Apply the mapping function\n",
    "df2_usa['experience_level'] = df2_usa['Years of Experience'].apply(map_experience)"
   ]
  },
  {
   "cell_type": "code",
   "execution_count": 6,
   "id": "d83453eb",
   "metadata": {},
   "outputs": [],
   "source": [
    "experience_map = {\n",
    "    'Entry': 'EN',\n",
    "    'Senior': 'SE',\n",
    "    'Mid': 'MI',\n",
    "    'Executive': 'EX'\n",
    "}\n",
    "df3_usa['Experience Level'] = df3_usa['Experience Level'].map(experience_map)"
   ]
  },
  {
   "cell_type": "code",
   "execution_count": 7,
   "id": "95b350fe",
   "metadata": {},
   "outputs": [
    {
     "name": "stdout",
     "output_type": "stream",
     "text": [
      "         Job Title    Salary Experience Level\n",
      "0   Data Architect  170955.0               SE\n",
      "1   Data Architect  130270.0               SE\n",
      "2  Insight Analyst   92144.0               MI\n",
      "3  Insight Analyst   57616.0               MI\n",
      "4    Lead Engineer  201600.0               SE\n"
     ]
    }
   ],
   "source": [
    "new_df = pd.DataFrame({\n",
    "    'Job Title': pd.concat([df1_us['job_title'], df2_usa['Job Title'], df3_usa['Job Title']], ignore_index=True),\n",
    "    'Salary': pd.concat([df1_us['salary'], df2_usa['Salary'], df3_usa['Salary in USD']], ignore_index=True),\n",
    "    'Experience Level': pd.concat([df1_us['experience_level'], df2_usa['experience_level'], df3_usa['Experience Level']], ignore_index=True)\n",
    "})\n",
    "\n",
    "new_df.to_csv(\"combined_salaries.csv\", index=False)\n",
    "\n",
    "print(new_df.head())"
   ]
  },
  {
   "cell_type": "code",
   "execution_count": null,
   "id": "9125f25e",
   "metadata": {},
   "outputs": [],
   "source": []
  },
  {
   "cell_type": "code",
   "execution_count": null,
   "id": "6167fd58",
   "metadata": {},
   "outputs": [],
   "source": []
  }
 ],
 "metadata": {
  "kernelspec": {
   "display_name": "Python 3 (ipykernel)",
   "language": "python",
   "name": "python3"
  },
  "language_info": {
   "codemirror_mode": {
    "name": "ipython",
    "version": 3
   },
   "file_extension": ".py",
   "mimetype": "text/x-python",
   "name": "python",
   "nbconvert_exporter": "python",
   "pygments_lexer": "ipython3",
   "version": "3.9.12"
  }
 },
 "nbformat": 4,
 "nbformat_minor": 5
}
