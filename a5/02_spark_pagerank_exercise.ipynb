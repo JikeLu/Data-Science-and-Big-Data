{
  "cells": [
    {
      "cell_type": "markdown",
      "metadata": {
        "id": "_yKgg6V_-XYB"
      },
      "source": [
        "#### Name: `Jike Lu`\n",
        "#### AndrewID: `jikelu`"
      ]
    },
    {
      "cell_type": "code",
      "source": [
        "!apt-get install openjdk-8-jdk-headless -qq > /dev/null\n",
        "!wget -q https://downloads.apache.org/dist/spark/spark-3.3.2/spark-3.3.2-bin-hadoop3.tgz\n",
        "!tar xf spark-3.3.2-bin-hadoop3.tgz\n",
        "!pip install -q findspark"
      ],
      "metadata": {
        "colab": {
          "base_uri": "https://localhost:8080/"
        },
        "id": "niBxR_u9-ak-",
        "outputId": "7c73a811-7103-4851-8e8e-f0987c694e31"
      },
      "execution_count": 1,
      "outputs": [
        {
          "output_type": "stream",
          "name": "stdout",
          "text": [
            "tar: spark-3.3.2-bin-hadoop3.tgz: Cannot open: No such file or directory\n",
            "tar: Error is not recoverable: exiting now\n"
          ]
        }
      ]
    },
    {
      "cell_type": "markdown",
      "metadata": {
        "id": "beTJ178H-XYD"
      },
      "source": [
        "Below is the outline of pyspark code for calculating the pagerank of a graph expressed in the edge vector representation.  For this past of the assignment:\n",
        "\n",
        "1. Complete the code below\n",
        "2. Write doc string comments for all functions documenting what they do\n",
        "3. Test your code on other graphs we've worked in previous assignments\n",
        "\n",
        "I recommend reviewing the (i) the Excel spread sheet calculation we did for simulating the page rank calculation (ii) and slides on pagerank.  Ensure you under the algorithm well before starting on this exercise.\n",
        "\n",
        "Rather than just stating \"Write PySpark code to calculate PageRank\" I've provided some helper functions and sample output along the way to provide guidance.  To faciliate grading, do stay with these functions."
      ]
    },
    {
      "cell_type": "code",
      "execution_count": 1,
      "metadata": {
        "id": "OIszNqmn-XYD"
      },
      "outputs": [],
      "source": [
        "import findspark\n",
        "findspark.init()\n",
        "from pyspark import SparkContext\n",
        "sc = SparkContext()"
      ]
    },
    {
      "cell_type": "markdown",
      "metadata": {
        "id": "0vXRvTXV-XYD"
      },
      "source": [
        "# page rank"
      ]
    },
    {
      "cell_type": "code",
      "execution_count": 2,
      "metadata": {
        "id": "E_QUDk7--XYE"
      },
      "outputs": [],
      "source": [
        "def parse_line(line):\n",
        "    nodes = line.split()\n",
        "    return (nodes[0], nodes[1:])"
      ]
    },
    {
      "cell_type": "code",
      "execution_count": 3,
      "metadata": {
        "id": "GkClsnaH-XYE"
      },
      "outputs": [],
      "source": [
        "def read_graph(fname):\n",
        "    return sc.textFile(fname).map(parse_line)"
      ]
    },
    {
      "cell_type": "code",
      "execution_count": 4,
      "metadata": {
        "colab": {
          "base_uri": "https://localhost:8080/"
        },
        "id": "k888Ro45-XYF",
        "outputId": "cafe567c-12f0-4bfd-a6b0-ced475e66882"
      },
      "outputs": [
        {
          "output_type": "execute_result",
          "data": {
            "text/plain": [
              "[('A', ['B', 'C']), ('B', ['C']), ('C', ['A']), ('D', ['C'])]"
            ]
          },
          "metadata": {},
          "execution_count": 4
        }
      ],
      "source": [
        "read_graph('graph-1.txt').collect()"
      ]
    },
    {
      "cell_type": "code",
      "execution_count": 5,
      "metadata": {
        "scrolled": true,
        "id": "Sx2bvVh1-XYF"
      },
      "outputs": [],
      "source": [
        "def init_ranks(graph):\n",
        "    nodes = graph.flatMap(lambda x: [x[0]] + x[1]).distinct()  # Get all unique nodes\n",
        "    num_nodes = nodes.count()\n",
        "    return nodes.map(lambda node: (node, 1.0 / num_nodes))"
      ]
    },
    {
      "cell_type": "code",
      "execution_count": 6,
      "metadata": {
        "colab": {
          "base_uri": "https://localhost:8080/"
        },
        "id": "U5InMEOH-XYG",
        "outputId": "8764a3f2-a2da-4b27-98e1-88f4108bdb5a"
      },
      "outputs": [
        {
          "output_type": "execute_result",
          "data": {
            "text/plain": [
              "[('C', 0.25), ('A', 0.25), ('B', 0.25), ('D', 0.25)]"
            ]
          },
          "metadata": {},
          "execution_count": 6
        }
      ],
      "source": [
        "g = read_graph('graph-1.txt')\n",
        "init_ranks(g).collect()"
      ]
    },
    {
      "cell_type": "code",
      "execution_count": 12,
      "metadata": {
        "id": "bAtq_rFG-XYG"
      },
      "outputs": [],
      "source": [
        "def calc_partials(x):\n",
        "    node, (links, rank) = x  # Correctly unpack ([neighbors], rank)\n",
        "    if not links or len(links) == 0:  # Handle nodes with no outgoing links\n",
        "        return []  # No contributions\n",
        "    num_links = len(links)  # Calculate number of outgoing links\n",
        "    return [(link, rank / num_links) for link in links]  # Distribute rank among links\n"
      ]
    },
    {
      "cell_type": "code",
      "execution_count": 8,
      "metadata": {
        "id": "au_qoH6h-XYG"
      },
      "outputs": [],
      "source": [
        "def calc_contribs(ranks, graph):\n",
        "    return graph.join(ranks).flatMap(calc_partials)"
      ]
    },
    {
      "cell_type": "code",
      "execution_count": 9,
      "metadata": {
        "id": "ZAmOmi9M-XYH"
      },
      "outputs": [],
      "source": [
        "g = read_graph('graph-1.txt')\n",
        "r = init_ranks(g)"
      ]
    },
    {
      "cell_type": "code",
      "source": [
        "print(g.collect())\n",
        "print(r.collect())"
      ],
      "metadata": {
        "colab": {
          "base_uri": "https://localhost:8080/"
        },
        "id": "iKdpg2NUARY3",
        "outputId": "06027e2a-a8fb-4619-8ba7-22f4fe3a87ea"
      },
      "execution_count": 10,
      "outputs": [
        {
          "output_type": "stream",
          "name": "stdout",
          "text": [
            "[('A', ['B', 'C']), ('B', ['C']), ('C', ['A']), ('D', ['C'])]\n",
            "[('C', 0.25), ('A', 0.25), ('B', 0.25), ('D', 0.25)]\n"
          ]
        }
      ]
    },
    {
      "cell_type": "markdown",
      "metadata": {
        "id": "W6vezMg--XYH"
      },
      "source": [
        "Note that when calculating the contributions we have A, B, C, D also paired with 0?  Why?"
      ]
    },
    {
      "cell_type": "code",
      "execution_count": 13,
      "metadata": {
        "colab": {
          "base_uri": "https://localhost:8080/"
        },
        "id": "OJzb2odK-XYH",
        "outputId": "58adc95b-fa04-4e6a-d6d7-9e212c3ce15c"
      },
      "outputs": [
        {
          "output_type": "stream",
          "name": "stdout",
          "text": [
            "Joined RDD: [('A', (['B', 'C'], 0.25)), ('B', (['C'], 0.25)), ('C', (['A'], 0.25)), ('D', (['C'], 0.25))]\n"
          ]
        },
        {
          "output_type": "execute_result",
          "data": {
            "text/plain": [
              "[('B', 0.125), ('C', 0.125), ('C', 0.25), ('A', 0.25), ('C', 0.25)]"
            ]
          },
          "metadata": {},
          "execution_count": 13
        }
      ],
      "source": [
        "c1 = calc_contribs(r, g)\n",
        "print(\"Joined RDD:\", g.join(r).collect())\n",
        "\n",
        "c1.collect()"
      ]
    },
    {
      "cell_type": "code",
      "execution_count": 14,
      "metadata": {
        "id": "0Wh1Prim-XYH"
      },
      "outputs": [],
      "source": [
        "def calc_ranks(contribs, num_nodes, beta):\n",
        "    return contribs.reduceByKey(lambda x, y: x + y).mapValues(lambda contrib: beta * contrib + (1 - beta) / num_nodes)"
      ]
    },
    {
      "cell_type": "code",
      "execution_count": 15,
      "metadata": {
        "colab": {
          "base_uri": "https://localhost:8080/"
        },
        "id": "Bii4MYRL-XYH",
        "outputId": "d0dc3ffa-b587-4c52-dc89-6d1463dfba2a"
      },
      "outputs": [
        {
          "output_type": "execute_result",
          "data": {
            "text/plain": [
              "[('B', 0.14375), ('A', 0.25), ('C', 0.56875)]"
            ]
          },
          "metadata": {},
          "execution_count": 15
        }
      ],
      "source": [
        "calc_ranks(c1, num_nodes=g.count(), beta=0.85).collect()"
      ]
    },
    {
      "cell_type": "code",
      "execution_count": 18,
      "metadata": {
        "id": "Cqn6UIz9-XYH"
      },
      "outputs": [],
      "source": [
        "def pagerank(fname, beta=0.85, n=10):\n",
        "    graph = read_graph(fname)\n",
        "    print(\"Graph:\", graph.collect())  # Debug\n",
        "\n",
        "    ranks = init_ranks(graph)\n",
        "    print(\"Initial Ranks:\", ranks.collect())  # Debug\n",
        "\n",
        "    for i in range(n):\n",
        "        contribs = calc_contribs(ranks, graph)\n",
        "        print(f\"Contributions at iteration {i}:\", contribs.collect())  # Debug\n",
        "\n",
        "        ranks = calc_ranks(contribs, num_nodes=graph.count(), beta=beta)\n",
        "        print(f\"Ranks at iteration {i}:\", ranks.collect())  # Debug\n",
        "\n",
        "    return ranks.collect()\n"
      ]
    },
    {
      "cell_type": "code",
      "execution_count": 19,
      "metadata": {
        "colab": {
          "base_uri": "https://localhost:8080/"
        },
        "id": "SLP9CC6f-XYH",
        "outputId": "13411b5e-fd7b-4edc-b2de-53d12dc4180b"
      },
      "outputs": [
        {
          "output_type": "stream",
          "name": "stdout",
          "text": [
            "Graph: [('A', ['B', 'C']), ('B', ['C']), ('C', ['A']), ('D', ['C'])]\n",
            "Initial Ranks: [('C', 0.25), ('A', 0.25), ('B', 0.25), ('D', 0.25)]\n",
            "Contributions at iteration 0: [('B', 0.125), ('C', 0.125), ('C', 0.25), ('A', 0.25), ('C', 0.25)]\n",
            "Ranks at iteration 0: [('B', 0.14375), ('A', 0.25), ('C', 0.56875)]\n",
            "Contributions at iteration 1: [('A', 0.56875), ('B', 0.125), ('C', 0.125), ('C', 0.14375)]\n",
            "Ranks at iteration 1: [('C', 0.2659375), ('A', 0.5209374999999999), ('B', 0.14375)]\n",
            "Contributions at iteration 2: [('C', 0.14375), ('A', 0.2659375), ('B', 0.26046874999999997), ('C', 0.26046874999999997)]\n",
            "Ranks at iteration 2: [('B', 0.25889843749999997), ('C', 0.38108593749999997), ('A', 0.26354687499999996)]\n",
            "Contributions at iteration 3: [('B', 0.13177343749999998), ('C', 0.13177343749999998), ('C', 0.25889843749999997), ('A', 0.38108593749999997)]\n",
            "Ranks at iteration 3: [('A', 0.36142304687499993), ('B', 0.149507421875), ('C', 0.36957109374999997)]\n",
            "Contributions at iteration 4: [('B', 0.18071152343749997), ('C', 0.18071152343749997), ('A', 0.36957109374999997), ('C', 0.149507421875)]\n",
            "Ranks at iteration 4: [('A', 0.35163542968749995), ('C', 0.31818610351562493), ('B', 0.19110479492187496)]\n",
            "Contributions at iteration 5: [('B', 0.17581771484374997), ('C', 0.17581771484374997), ('A', 0.31818610351562493), ('C', 0.19110479492187496)]\n",
            "Ranks at iteration 5: [('A', 0.30795818798828123), ('C', 0.3493841333007812), ('B', 0.18694505761718747)]\n",
            "Contributions at iteration 6: [('C', 0.18694505761718747), ('A', 0.3493841333007812), ('B', 0.15397909399414061), ('C', 0.15397909399414061)]\n",
            "Ranks at iteration 6: [('B', 0.16838222989501953), ('C', 0.3272855288696288), ('A', 0.3344765133056641)]\n",
            "Contributions at iteration 7: [('A', 0.3272855288696288), ('B', 0.16723825665283204), ('C', 0.16723825665283204), ('C', 0.16838222989501953)]\n",
            "Ranks at iteration 7: [('C', 0.3227774135656738), ('A', 0.31569269953918444), ('B', 0.17965251815490724)]\n",
            "Contributions at iteration 8: [('B', 0.15784634976959222), ('C', 0.15784634976959222), ('C', 0.17965251815490724), ('A', 0.3227774135656738)]\n",
            "Ranks at iteration 8: [('A', 0.31186080153082274), ('B', 0.1716693973041534), ('C', 0.3243740377358245)]\n",
            "Contributions at iteration 9: [('C', 0.1716693973041534), ('A', 0.3243740377358245), ('B', 0.15593040076541137), ('C', 0.15593040076541137)]\n",
            "Ranks at iteration 9: [('B', 0.17004084065059966), ('C', 0.31595982835913006), ('A', 0.3132179320754508)]\n"
          ]
        },
        {
          "output_type": "execute_result",
          "data": {
            "text/plain": [
              "[('A', 0.3132179320754508),\n",
              " ('B', 0.17004084065059966),\n",
              " ('C', 0.31595982835913006)]"
            ]
          },
          "metadata": {},
          "execution_count": 19
        }
      ],
      "source": [
        "sorted(pagerank('graph-1.txt', beta=0.85, n=10))"
      ]
    },
    {
      "cell_type": "raw",
      "metadata": {
        "id": "9hkXA5SW-XYH"
      },
      "source": [
        "[('A', 0.375054382302053),\n",
        " ('B', 0.1949370588413849),\n",
        " ('C', 0.3925085588565621),\n",
        " ('D', 0.037500000000000006)]"
      ]
    },
    {
      "cell_type": "code",
      "execution_count": null,
      "metadata": {
        "id": "BcwDh3F--XYH"
      },
      "outputs": [],
      "source": []
    }
  ],
  "metadata": {
    "kernelspec": {
      "display_name": "Python 3 (ipykernel)",
      "language": "python",
      "name": "python3"
    },
    "language_info": {
      "codemirror_mode": {
        "name": "ipython",
        "version": 3
      },
      "file_extension": ".py",
      "mimetype": "text/x-python",
      "name": "python",
      "nbconvert_exporter": "python",
      "pygments_lexer": "ipython3",
      "version": "3.8.11"
    },
    "colab": {
      "provenance": []
    }
  },
  "nbformat": 4,
  "nbformat_minor": 0
}