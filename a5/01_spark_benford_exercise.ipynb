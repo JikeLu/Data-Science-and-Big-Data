{
  "cells": [
    {
      "cell_type": "markdown",
      "metadata": {
        "id": "zqpp0nc94sBE"
      },
      "source": [
        "#### Name: `Jike Lu`\n",
        "#### AndrewID: `jikelu`"
      ]
    },
    {
      "cell_type": "code",
      "source": [
        "!apt-get install openjdk-8-jdk-headless -qq > /dev/null\n",
        "!wget -q https://downloads.apache.org/dist/spark/spark-3.3.2/spark-3.3.2-bin-hadoop3.tgz\n",
        "!tar xf spark-3.3.2-bin-hadoop3.tgz\n",
        "!pip install -q findspark"
      ],
      "metadata": {
        "colab": {
          "base_uri": "https://localhost:8080/"
        },
        "id": "FnC5ZxKW4tgI",
        "outputId": "7a4871a5-fe80-4cc0-eb4d-6b9e70a5cb06"
      },
      "execution_count": 1,
      "outputs": [
        {
          "output_type": "stream",
          "name": "stdout",
          "text": [
            "tar: spark-3.3.2-bin-hadoop3.tgz: Cannot open: No such file or directory\n",
            "tar: Error is not recoverable: exiting now\n"
          ]
        }
      ]
    },
    {
      "cell_type": "code",
      "execution_count": 2,
      "metadata": {
        "id": "5I-7L01d4sBF"
      },
      "outputs": [],
      "source": [
        "import findspark\n",
        "findspark.init()\n",
        "from pyspark import SparkContext\n",
        "sc = SparkContext()"
      ]
    },
    {
      "cell_type": "code",
      "execution_count": 3,
      "metadata": {
        "id": "lg0ApWQ84sBF"
      },
      "outputs": [],
      "source": [
        "lines = sc.textFile('tallest-buildings.txt')"
      ]
    },
    {
      "cell_type": "code",
      "execution_count": 4,
      "metadata": {
        "colab": {
          "base_uri": "https://localhost:8080/"
        },
        "id": "GTAe4l9W4sBG",
        "outputId": "af12d5ef-a4bb-4d78-ae5f-68d700d63dc3"
      },
      "outputs": [
        {
          "output_type": "execute_result",
          "data": {
            "text/plain": [
              "['|Mixed use! [[Burj Khalifa]] ! {{flag|United Arab Emirates}} ! [[Dubai]] ! 829.8 ! 2722 ! 2010 ! {{coord|25|11|50.0|N|55|16|26.6|E|type:landmark|name=Burj Dubai}}',\n",
              " '|Self-supporting tower ! [[Tokyo Skytree]] ! {{flag|Japan}} ! [[Tokyo]] ! 634 ! 2080 ! 2011 ! {{Coord|35|42|36.5|N|139|48|39|E|type:landmark|name=Tokyo Skytree}}',\n",
              " '|Clock building! [[Abraj Al Bait Towers]] ! {{flag|Saudi Arabia}} ! [[Mecca]] ! 601 ! 1972 ! 2011! {{coord|21|25|08|N|39|49|35|E|type:landmark|name=Abraj Al Bait Towers}}',\n",
              " '|Military structure ! Large masts of [[INS Kattabomman]] ! {{flag|India}} ! [[Tirunelveli]] ! 471 ! 1545 ! 2014 ! {{coord|8|22|42.52|N|77|44|38.45|E|type:landmark|name=INS Kattabomman Large Mast West}} ; {{coord|8|22|30.13|N|77|45|21.07|E|type:landmark|name=INS Kattabomman Large Mast East}}',\n",
              " '|Mast radiator ! [[Lualualei VLF transmitter]] ! {{flag|United States}} ! [[Lualualei Hawaii]] ! 458 ! 1503 ! 1972 ! {{coord|21|25|11.87|N|158|08|53.67|W|type:landmark|name=VLF transmitter Lualualei Mast 1}} ; {{coord|21|25|13.38|N|158|09|14.35|W|type:landmark|name=VLF transmitter Lualualei Mast 2}}']"
            ]
          },
          "metadata": {},
          "execution_count": 4
        }
      ],
      "source": [
        "lines.take(5)"
      ]
    },
    {
      "cell_type": "markdown",
      "metadata": {
        "id": "E-k7z9_z4sBG"
      },
      "source": [
        "### The Exercise\n",
        "Note the fields are seperated by the `!` character.  The 5th field (counting from 0) is the height of each structure expressed in feet.  The first few values are `[' 2722 ', ' 2080 ', ' 1972 ', ' 1545 ', ' 1503 ']`.  Determine the frequency of occurrence of each of the leading digits of the heights (in feet). Expected final answer:\n",
        "\n",
        "```\n",
        "[('1', 17),\n",
        " ('2', 6),\n",
        " ('3', 4),\n",
        " ('4', 7),\n",
        " ('5', 13),\n",
        " ('6', 5),\n",
        " ('7', 2),\n",
        " ('9', 1)]\n",
        " ```"
      ]
    },
    {
      "cell_type": "raw",
      "metadata": {
        "id": "sfZHW1bl4sBG"
      },
      "source": []
    },
    {
      "cell_type": "code",
      "execution_count": 5,
      "metadata": {
        "colab": {
          "base_uri": "https://localhost:8080/"
        },
        "id": "mOxvkyUF4sBG",
        "outputId": "4260ae8f-8ce5-4393-ebde-82c7fd3e296f"
      },
      "outputs": [
        {
          "output_type": "execute_result",
          "data": {
            "text/plain": [
              "['829.8', '634', '601', '471', '458']"
            ]
          },
          "metadata": {},
          "execution_count": 5
        }
      ],
      "source": [
        "# Extract heights\n",
        "heights = (\n",
        "    lines.map(lambda line: line.split(\"!\"))  # Split by delimiter '!'\n",
        "         .filter(lambda parts: len(parts) > 4)  # Ensure there's enough fields\n",
        "         .map(lambda parts: parts[4].strip())  # Extract the 5th column (height)\n",
        "         .filter(lambda height: height.replace('.', '', 1).isdigit())  # Filter valid numbers\n",
        ")\n",
        "\n",
        "# Preview extracted heights\n",
        "heights.take(5)\n"
      ]
    },
    {
      "cell_type": "code",
      "source": [
        "# Extract leading digits\n",
        "leading_digits = (\n",
        "    heights.map(lambda h: h.split(\".\")[0])  # Remove decimal part\n",
        "           .map(lambda h: h[0])            # Extract the first character\n",
        "           .filter(lambda d: d.isdigit())  # Ensure it's a digit\n",
        "           .map(int)                       # Convert to integer\n",
        ")\n",
        "\n",
        "# Preview leading digits\n",
        "leading_digits.take(10)\n"
      ],
      "metadata": {
        "colab": {
          "base_uri": "https://localhost:8080/"
        },
        "id": "J3I3dG1z5lCh",
        "outputId": "8155efe0-79f9-4fb9-90b1-fedd3b9e00ff"
      },
      "execution_count": 6,
      "outputs": [
        {
          "output_type": "execute_result",
          "data": {
            "text/plain": [
              "[8, 6, 6, 4, 4, 4, 4, 4, 4, 3]"
            ]
          },
          "metadata": {},
          "execution_count": 6
        }
      ]
    },
    {
      "cell_type": "code",
      "source": [
        "# Count frequencies of leading digits\n",
        "digit_counts = leading_digits.map(lambda d: (d, 1)).reduceByKey(lambda a, b: a + b)\n",
        "\n",
        "# Convert to frequencies\n",
        "total_count = digit_counts.map(lambda x: x[1]).sum()\n",
        "digit_frequencies = digit_counts.map(lambda x: (x[0], x[1] / total_count))\n",
        "\n",
        "# Preview frequencies\n",
        "digit_frequencies.collect()\n"
      ],
      "metadata": {
        "colab": {
          "base_uri": "https://localhost:8080/"
        },
        "id": "YGQ5wsac5myA",
        "outputId": "4daed169-5716-4e01-ca7b-a99e5c714236"
      },
      "execution_count": 7,
      "outputs": [
        {
          "output_type": "execute_result",
          "data": {
            "text/plain": [
              "[(8, 0.0392156862745098),\n",
              " (6, 0.0392156862745098),\n",
              " (4, 0.11764705882352941),\n",
              " (2, 0.0392156862745098),\n",
              " (3, 0.19607843137254902),\n",
              " (1, 0.5098039215686274),\n",
              " (7, 0.058823529411764705)]"
            ]
          },
          "metadata": {},
          "execution_count": 7
        }
      ]
    },
    {
      "cell_type": "code",
      "source": [
        "import math\n",
        "\n",
        "# Benford's Law expected frequencies\n",
        "benford_frequencies = {d: math.log10(1 + 1/d) for d in range(1, 10)}\n",
        "\n",
        "# Print Benford's frequencies\n",
        "benford_frequencies\n"
      ],
      "metadata": {
        "colab": {
          "base_uri": "https://localhost:8080/"
        },
        "id": "frQhlKbu5nfl",
        "outputId": "18577406-3de7-43bc-b721-e64f62dcad25"
      },
      "execution_count": 8,
      "outputs": [
        {
          "output_type": "execute_result",
          "data": {
            "text/plain": [
              "{1: 0.3010299956639812,\n",
              " 2: 0.17609125905568124,\n",
              " 3: 0.12493873660829992,\n",
              " 4: 0.09691001300805642,\n",
              " 5: 0.07918124604762482,\n",
              " 6: 0.06694678963061322,\n",
              " 7: 0.05799194697768673,\n",
              " 8: 0.05115252244738129,\n",
              " 9: 0.04575749056067514}"
            ]
          },
          "metadata": {},
          "execution_count": 8
        }
      ]
    },
    {
      "cell_type": "code",
      "source": [
        "import matplotlib.pyplot as plt\n",
        "\n",
        "# Collect observed frequencies for visualization\n",
        "observed = digit_frequencies.collect()\n",
        "observed = sorted(observed, key=lambda x: x[0])  # Sort by digit\n",
        "observed_digits, observed_freqs = zip(*observed)\n",
        "\n",
        "# Plot the observed vs expected\n",
        "plt.bar(observed_digits, observed_freqs, label=\"Observed\", alpha=0.7)\n",
        "plt.plot(list(benford_frequencies.keys()), list(benford_frequencies.values()),\n",
        "         label=\"Benford's Law\", color='red', marker='o')\n",
        "plt.xlabel(\"Leading Digit\")\n",
        "plt.ylabel(\"Frequency\")\n",
        "plt.title(\"Observed Frequencies vs Benford's Law\")\n",
        "plt.legend()\n",
        "plt.show()\n"
      ],
      "metadata": {
        "colab": {
          "base_uri": "https://localhost:8080/",
          "height": 472
        },
        "id": "RURSStFJ5qaf",
        "outputId": "389f5195-4a74-4347-82d3-740c13b17932"
      },
      "execution_count": 9,
      "outputs": [
        {
          "output_type": "display_data",
          "data": {
            "text/plain": [
              "<Figure size 640x480 with 1 Axes>"
            ],
            "image/png": "[encoded data removed]"
          },
          "metadata": {}
        }
      ]
    }
  ],
  "metadata": {
    "kernelspec": {
      "display_name": "Python 3 (ipykernel)",
      "language": "python",
      "name": "python3"
    },
    "language_info": {
      "codemirror_mode": {
        "name": "ipython",
        "version": 3
      },
      "file_extension": ".py",
      "mimetype": "text/x-python",
      "name": "python",
      "nbconvert_exporter": "python",
      "pygments_lexer": "ipython3",
      "version": "3.8.11"
    },
    "colab": {
      "provenance": []
    }
  },
  "nbformat": 4,
  "nbformat_minor": 0
}