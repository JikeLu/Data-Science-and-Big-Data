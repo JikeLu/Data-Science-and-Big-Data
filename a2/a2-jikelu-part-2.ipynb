{
 "cells": [
  {
   "cell_type": "code",
   "execution_count": 1,
   "id": "9cf94d83",
   "metadata": {},
   "outputs": [],
   "source": [
    "import pandas as pd"
   ]
  },
  {
   "cell_type": "code",
   "execution_count": 9,
   "id": "03af22a2",
   "metadata": {},
   "outputs": [],
   "source": [
    "def my_pivot_table(df, index, columns, values, aggfunc=lambda s: s.mean()):\n",
    "    unique_index = pd.unique(df[index])\n",
    "    unique_columns = pd.unique(df[columns])\n",
    "    result = pd.DataFrame(index=unique_index, columns=unique_columns)\n",
    "\n",
    "    result = result.applymap(lambda x: None)\n",
    "\n",
    "    for idx_value in unique_index:\n",
    "        idx_rows = df[df[index] == idx_value]\n",
    "        for col_value in unique_columns:\n",
    "            col_rows = idx_rows[idx_rows[columns] == col_value]\n",
    "            value_data = col_rows[values]\n",
    "            if not value_data.empty:\n",
    "                agg_result = aggfunc(value_data)\n",
    "                result.at[idx_value, col_value] = agg_result\n",
    "\n",
    "    return result"
   ]
  },
  {
   "cell_type": "code",
   "execution_count": 10,
   "id": "551a44e8",
   "metadata": {},
   "outputs": [
    {
     "name": "stdout",
     "output_type": "stream",
     "text": [
      "Built-in pivot_table:\n",
      "B    one  two\n",
      "A            \n",
      "bar  4.0  2.5\n",
      "foo  2.0  3.5\n"
     ]
    }
   ],
   "source": [
    "data = {\n",
    "    'A': ['a', 'a', 'a', 'a', 'a', 'a'],\n",
    "    'B': ['b', 'b', 'b', 'b', 'b', 'b'],\n",
    "    'C': [2.5, 1.5, 3.5, 2.5, 3.5, 4.5]\n",
    "}\n",
    "df = pd.DataFrame(data)\n",
    "\n",
    "print(pd.pivot_table(df, index='A', columns='B', values='C', aggfunc='mean'))"
   ]
  },
  {
   "cell_type": "code",
   "execution_count": 11,
   "id": "e84a5ea2",
   "metadata": {},
   "outputs": [
    {
     "name": "stdout",
     "output_type": "stream",
     "text": [
      "\n",
      "Custom my_pivot_table:\n",
      "     one  two\n",
      "foo  2.0  3.5\n",
      "bar  4.0  2.5\n"
     ]
    }
   ],
   "source": [
    "print(my_pivot_table(df, index='A', columns='B', values='C'))"
   ]
  },
  {
   "cell_type": "code",
   "execution_count": null,
   "id": "c9d5afda",
   "metadata": {},
   "outputs": [],
   "source": []
  }
 ],
 "metadata": {
  "kernelspec": {
   "display_name": "Python 3 (ipykernel)",
   "language": "python",
   "name": "python3"
  },
  "language_info": {
   "codemirror_mode": {
    "name": "ipython",
    "version": 3
   },
   "file_extension": ".py",
   "mimetype": "text/x-python",
   "name": "python",
   "nbconvert_exporter": "python",
   "pygments_lexer": "ipython3",
   "version": "3.9.12"
  }
 },
 "nbformat": 4,
 "nbformat_minor": 5
}
