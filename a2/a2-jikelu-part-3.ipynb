{
 "cells": [
  {
   "cell_type": "code",
   "execution_count": 11,
   "id": "e6320a8d",
   "metadata": {},
   "outputs": [],
   "source": [
    "import pandas as pd\n",
    "\n",
    "def probability(df):\n",
    "    def parse_condition(condition):\n",
    "        condition = condition.strip()\n",
    "        if '=' in condition:\n",
    "            field, value = condition.split('=')\n",
    "            field = field.strip()\n",
    "            value = value.strip()\n",
    "            return field, value\n",
    "        return None\n",
    "    \n",
    "    def compute_probability(query):\n",
    "        if '|' in query:\n",
    "            condition, given = query.split('|')\n",
    "            condition = condition.strip()\n",
    "            given = given.strip()\n",
    "        else:\n",
    "            condition = query.strip()\n",
    "            given = None\n",
    "        \n",
    "        if ',' in condition:\n",
    "            conditions = condition.split(',')\n",
    "        else:\n",
    "            conditions = [condition]\n",
    "        \n",
    "        mask = pd.Series([True] * len(df))\n",
    "        for cond in conditions:\n",
    "            if cond:\n",
    "                field, value = parse_condition(cond)\n",
    "                mask &= (df[field] == value)\n",
    "        \n",
    "        if given:\n",
    "            given_conditions = given.split(',')\n",
    "            given_mask = pd.Series([True] * len(df))\n",
    "            for cond in given_conditions:\n",
    "                field, value = parse_condition(cond)\n",
    "                given_mask &= (df[field] == value)\n",
    "            if given_mask.sum() == 0:\n",
    "                return 0\n",
    "            return mask[given_mask].sum() / given_mask.sum()\n",
    "        return mask.sum() / len(df)\n",
    "\n",
    "    def p(query):\n",
    "        return compute_probability(query)\n",
    "\n",
    "    return p"
   ]
  },
  {
   "cell_type": "code",
   "execution_count": 12,
   "id": "bc1efb3b",
   "metadata": {},
   "outputs": [],
   "source": [
    "df = pd.read_csv('tennis.txt', sep='\\s+')\n",
    "\n",
    "p = probability(df)"
   ]
  },
  {
   "cell_type": "code",
   "execution_count": 13,
   "id": "4f3e45d1",
   "metadata": {},
   "outputs": [
    {
     "name": "stdout",
     "output_type": "stream",
     "text": [
      "0.6428571428571429\n",
      "0.35714285714285715\n",
      "0.2222222222222222\n",
      "0.4\n",
      "0.6666666666666666\n"
     ]
    }
   ],
   "source": [
    "print(p('play=yes'))\n",
    "print(p('play = no'))\n",
    "print(p('outlook=sunny | play=yes')) \n",
    "print(p('outlook=rainy | play=no'))\n",
    "print(p('play=no | outlook=sunny, wind = weak'))"
   ]
  },
  {
   "cell_type": "code",
   "execution_count": null,
   "id": "ec6438f0",
   "metadata": {},
   "outputs": [],
   "source": []
  }
 ],
 "metadata": {
  "kernelspec": {
   "display_name": "Python 3 (ipykernel)",
   "language": "python",
   "name": "python3"
  },
  "language_info": {
   "codemirror_mode": {
    "name": "ipython",
    "version": 3
   },
   "file_extension": ".py",
   "mimetype": "text/x-python",
   "name": "python",
   "nbconvert_exporter": "python",
   "pygments_lexer": "ipython3",
   "version": "3.9.12"
  }
 },
 "nbformat": 4,
 "nbformat_minor": 5
}
