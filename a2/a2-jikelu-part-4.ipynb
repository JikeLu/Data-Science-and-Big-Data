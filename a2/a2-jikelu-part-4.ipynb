{
 "cells": [
  {
   "cell_type": "code",
   "execution_count": 15,
   "id": "1ac59cd6",
   "metadata": {},
   "outputs": [],
   "source": [
    "import pandas as pd\n",
    "\n",
    "df = pd.read_csv('itunes-raja.csv')\n",
    "\n",
    "def clean_ratings(x):\n",
    "    x = x.replace('Ratings', '').strip()\n",
    "    X = 1\n",
    "    if 'K' in x:\n",
    "        X = 1000\n",
    "        x = x.replace('K', '')\n",
    "    elif 'M' in x:\n",
    "        X = 1000000\n",
    "        x = x.replace('M', '')\n",
    "    return int(float(x) * X)"
   ]
  },
  {
   "cell_type": "code",
   "execution_count": 16,
   "id": "a141489e",
   "metadata": {},
   "outputs": [],
   "source": [
    "df['num_ratings_clean'] = df['num_ratings'].apply(clean_ratings)\n",
    "\n",
    "sorted_apps = df.sort_values(by=['star_rating', 'num_ratings_clean', 'app_name'], ascending=[False, False, True])\n",
    "top_apps = sorted_apps[['app_name', 'star_rating', 'num_ratings_clean']]\n",
    "\n",
    "apps_by_category = df['category'].value_counts()"
   ]
  },
  {
   "cell_type": "code",
   "execution_count": 17,
   "id": "f8d5282f",
   "metadata": {},
   "outputs": [],
   "source": [
    "def weighted_average(group):\n",
    "    d = group['num_ratings_clean']\n",
    "    r = group['star_rating']\n",
    "    return (d * r).sum() / d.sum()\n",
    "\n",
    "avg_rating_by_category = df.groupby('category').apply(weighted_average)"
   ]
  },
  {
   "cell_type": "code",
   "execution_count": 18,
   "id": "c74c430b",
   "metadata": {},
   "outputs": [],
   "source": [
    "def top_app(group):\n",
    "    return group.sort_values(by=['star_rating', 'num_ratings_clean'], ascending=[False, False]).iloc[0]\n",
    "\n",
    "top_app_by_category = df.groupby('category').apply(top_app)[['app_name', 'star_rating', 'num_ratings_clean']]"
   ]
  },
  {
   "cell_type": "code",
   "execution_count": 19,
   "id": "26470629",
   "metadata": {},
   "outputs": [
    {
     "name": "stdout",
     "output_type": "stream",
     "text": [
      "Top Apps: \n"
     ]
    },
    {
     "data": {
      "text/html": [
       "<div>\n",
       "<style scoped>\n",
       "    .dataframe tbody tr th:only-of-type {\n",
       "        vertical-align: middle;\n",
       "    }\n",
       "\n",
       "    .dataframe tbody tr th {\n",
       "        vertical-align: top;\n",
       "    }\n",
       "\n",
       "    .dataframe thead th {\n",
       "        text-align: right;\n",
       "    }\n",
       "</style>\n",
       "<table border=\"1\" class=\"dataframe\">\n",
       "  <thead>\n",
       "    <tr style=\"text-align: right;\">\n",
       "      <th></th>\n",
       "      <th>app_name</th>\n",
       "      <th>star_rating</th>\n",
       "      <th>num_ratings_clean</th>\n",
       "    </tr>\n",
       "  </thead>\n",
       "  <tbody>\n",
       "    <tr>\n",
       "      <th>25</th>\n",
       "      <td>Shazam</td>\n",
       "      <td>4.9</td>\n",
       "      <td>694400</td>\n",
       "    </tr>\n",
       "    <tr>\n",
       "      <th>1</th>\n",
       "      <td>Bolt</td>\n",
       "      <td>4.9</td>\n",
       "      <td>29900</td>\n",
       "    </tr>\n",
       "    <tr>\n",
       "      <th>30</th>\n",
       "      <td>Barclays</td>\n",
       "      <td>4.8</td>\n",
       "      <td>856200</td>\n",
       "    </tr>\n",
       "    <tr>\n",
       "      <th>36</th>\n",
       "      <td>HSBC UK Mobile Banking</td>\n",
       "      <td>4.8</td>\n",
       "      <td>543600</td>\n",
       "    </tr>\n",
       "    <tr>\n",
       "      <th>48</th>\n",
       "      <td>Booking.com Travel Deals</td>\n",
       "      <td>4.8</td>\n",
       "      <td>540400</td>\n",
       "    </tr>\n",
       "  </tbody>\n",
       "</table>\n",
       "</div>"
      ],
      "text/plain": [
       "                    app_name  star_rating  num_ratings_clean\n",
       "25                    Shazam          4.9             694400\n",
       "1                       Bolt          4.9              29900\n",
       "30                  Barclays          4.8             856200\n",
       "36    HSBC UK Mobile Banking          4.8             543600\n",
       "48  Booking.com Travel Deals          4.8             540400"
      ]
     },
     "execution_count": 19,
     "metadata": {},
     "output_type": "execute_result"
    }
   ],
   "source": [
    "print(\"Top Apps: \")\n",
    "top_apps.head()"
   ]
  },
  {
   "cell_type": "code",
   "execution_count": 20,
   "id": "d2b6f23f",
   "metadata": {},
   "outputs": [
    {
     "name": "stdout",
     "output_type": "stream",
     "text": [
      "Apps by Category: \n"
     ]
    },
    {
     "data": {
      "text/plain": [
       "Games                34\n",
       "Shopping             11\n",
       "Travel                6\n",
       "Productivity          6\n",
       "Finance               6\n",
       "Photo & Video         5\n",
       "Education             5\n",
       "Social Networking     5\n",
       "Music                 4\n",
       "Entertainment         4\n",
       "Food & Drink          4\n",
       "Utilities             3\n",
       "Navigation            2\n",
       "Health & Fitness      2\n",
       "Business              2\n",
       "Reference             1\n",
       "Name: category, dtype: int64"
      ]
     },
     "execution_count": 20,
     "metadata": {},
     "output_type": "execute_result"
    }
   ],
   "source": [
    "print(\"Apps by Category: \")\n",
    "apps_by_category"
   ]
  },
  {
   "cell_type": "code",
   "execution_count": 21,
   "id": "47653d60",
   "metadata": {},
   "outputs": [
    {
     "name": "stdout",
     "output_type": "stream",
     "text": [
      "Average Rating by Category: \n"
     ]
    },
    {
     "data": {
      "text/plain": [
       "category\n",
       "Business             4.582095\n",
       "Education            4.558274\n",
       "Entertainment        4.643281\n",
       "Finance              4.796536\n",
       "Food & Drink         4.665683\n",
       "Games                4.611581\n",
       "Health & Fitness     4.700000\n",
       "Music                4.757942\n",
       "Navigation           4.688176\n",
       "Photo & Video        4.704613\n",
       "Productivity         4.626733\n",
       "Reference            4.400000\n",
       "Shopping             4.697098\n",
       "Social Networking    4.644088\n",
       "Travel               4.715657\n",
       "Utilities            4.299578\n",
       "dtype: float64"
      ]
     },
     "execution_count": 21,
     "metadata": {},
     "output_type": "execute_result"
    }
   ],
   "source": [
    "print(\"Average Rating by Category: \")\n",
    "avg_rating_by_category"
   ]
  },
  {
   "cell_type": "code",
   "execution_count": 22,
   "id": "48becdf0",
   "metadata": {},
   "outputs": [
    {
     "name": "stdout",
     "output_type": "stream",
     "text": [
      "Top App by Category: \n"
     ]
    },
    {
     "data": {
      "text/html": [
       "<div>\n",
       "<style scoped>\n",
       "    .dataframe tbody tr th:only-of-type {\n",
       "        vertical-align: middle;\n",
       "    }\n",
       "\n",
       "    .dataframe tbody tr th {\n",
       "        vertical-align: top;\n",
       "    }\n",
       "\n",
       "    .dataframe thead th {\n",
       "        text-align: right;\n",
       "    }\n",
       "</style>\n",
       "<table border=\"1\" class=\"dataframe\">\n",
       "  <thead>\n",
       "    <tr style=\"text-align: right;\">\n",
       "      <th></th>\n",
       "      <th>app_name</th>\n",
       "      <th>star_rating</th>\n",
       "      <th>num_ratings_clean</th>\n",
       "    </tr>\n",
       "    <tr>\n",
       "      <th>category</th>\n",
       "      <th></th>\n",
       "      <th></th>\n",
       "      <th></th>\n",
       "    </tr>\n",
       "  </thead>\n",
       "  <tbody>\n",
       "    <tr>\n",
       "      <th>Business</th>\n",
       "      <td>Microsoft Teams</td>\n",
       "      <td>4.7</td>\n",
       "      <td>33700</td>\n",
       "    </tr>\n",
       "    <tr>\n",
       "      <th>Education</th>\n",
       "      <td>Duolingo</td>\n",
       "      <td>4.7</td>\n",
       "      <td>117900</td>\n",
       "    </tr>\n",
       "    <tr>\n",
       "      <th>Entertainment</th>\n",
       "      <td>TikTok - Make Your Day</td>\n",
       "      <td>4.7</td>\n",
       "      <td>305600</td>\n",
       "    </tr>\n",
       "    <tr>\n",
       "      <th>Finance</th>\n",
       "      <td>Barclays</td>\n",
       "      <td>4.8</td>\n",
       "      <td>856200</td>\n",
       "    </tr>\n",
       "    <tr>\n",
       "      <th>Food &amp; Drink</th>\n",
       "      <td>Just Eat - Food Delivery</td>\n",
       "      <td>4.7</td>\n",
       "      <td>523400</td>\n",
       "    </tr>\n",
       "    <tr>\n",
       "      <th>Games</th>\n",
       "      <td>8 Ball Pool™</td>\n",
       "      <td>4.7</td>\n",
       "      <td>295500</td>\n",
       "    </tr>\n",
       "    <tr>\n",
       "      <th>Health &amp; Fitness</th>\n",
       "      <td>MyFitnessPal</td>\n",
       "      <td>4.7</td>\n",
       "      <td>153400</td>\n",
       "    </tr>\n",
       "    <tr>\n",
       "      <th>Music</th>\n",
       "      <td>Shazam</td>\n",
       "      <td>4.9</td>\n",
       "      <td>694400</td>\n",
       "    </tr>\n",
       "    <tr>\n",
       "      <th>Navigation</th>\n",
       "      <td>Google Maps - Transit &amp; Food</td>\n",
       "      <td>4.7</td>\n",
       "      <td>348000</td>\n",
       "    </tr>\n",
       "    <tr>\n",
       "      <th>Photo &amp; Video</th>\n",
       "      <td>FreePrints - Photos Delivered</td>\n",
       "      <td>4.8</td>\n",
       "      <td>326300</td>\n",
       "    </tr>\n",
       "    <tr>\n",
       "      <th>Productivity</th>\n",
       "      <td>Google Drive – online backup</td>\n",
       "      <td>4.7</td>\n",
       "      <td>236400</td>\n",
       "    </tr>\n",
       "    <tr>\n",
       "      <th>Reference</th>\n",
       "      <td>Google Translate</td>\n",
       "      <td>4.4</td>\n",
       "      <td>4200</td>\n",
       "    </tr>\n",
       "    <tr>\n",
       "      <th>Shopping</th>\n",
       "      <td>UNiDAYS: Student Discounts</td>\n",
       "      <td>4.8</td>\n",
       "      <td>200100</td>\n",
       "    </tr>\n",
       "    <tr>\n",
       "      <th>Social Networking</th>\n",
       "      <td>Pinterest: Lifestyle Ideas</td>\n",
       "      <td>4.8</td>\n",
       "      <td>304300</td>\n",
       "    </tr>\n",
       "    <tr>\n",
       "      <th>Travel</th>\n",
       "      <td>Bolt</td>\n",
       "      <td>4.9</td>\n",
       "      <td>29900</td>\n",
       "    </tr>\n",
       "    <tr>\n",
       "      <th>Utilities</th>\n",
       "      <td>My Vodafone</td>\n",
       "      <td>4.3</td>\n",
       "      <td>369700</td>\n",
       "    </tr>\n",
       "  </tbody>\n",
       "</table>\n",
       "</div>"
      ],
      "text/plain": [
       "                                        app_name  star_rating  \\\n",
       "category                                                        \n",
       "Business                         Microsoft Teams          4.7   \n",
       "Education                               Duolingo          4.7   \n",
       "Entertainment             TikTok - Make Your Day          4.7   \n",
       "Finance                                 Barclays          4.8   \n",
       "Food & Drink            Just Eat - Food Delivery          4.7   \n",
       "Games                               8 Ball Pool™          4.7   \n",
       "Health & Fitness                    MyFitnessPal          4.7   \n",
       "Music                                     Shazam          4.9   \n",
       "Navigation          Google Maps - Transit & Food          4.7   \n",
       "Photo & Video      FreePrints - Photos Delivered          4.8   \n",
       "Productivity        Google Drive – online backup          4.7   \n",
       "Reference                       Google Translate          4.4   \n",
       "Shopping              UNiDAYS: Student Discounts          4.8   \n",
       "Social Networking     Pinterest: Lifestyle Ideas          4.8   \n",
       "Travel                                      Bolt          4.9   \n",
       "Utilities                            My Vodafone          4.3   \n",
       "\n",
       "                   num_ratings_clean  \n",
       "category                              \n",
       "Business                       33700  \n",
       "Education                     117900  \n",
       "Entertainment                 305600  \n",
       "Finance                       856200  \n",
       "Food & Drink                  523400  \n",
       "Games                         295500  \n",
       "Health & Fitness              153400  \n",
       "Music                         694400  \n",
       "Navigation                    348000  \n",
       "Photo & Video                 326300  \n",
       "Productivity                  236400  \n",
       "Reference                       4200  \n",
       "Shopping                      200100  \n",
       "Social Networking             304300  \n",
       "Travel                         29900  \n",
       "Utilities                     369700  "
      ]
     },
     "execution_count": 22,
     "metadata": {},
     "output_type": "execute_result"
    }
   ],
   "source": [
    "print(\"Top App by Category: \")\n",
    "top_app_by_category"
   ]
  },
  {
   "cell_type": "code",
   "execution_count": null,
   "id": "591c3f73",
   "metadata": {},
   "outputs": [],
   "source": []
  }
 ],
 "metadata": {
  "kernelspec": {
   "display_name": "Python 3 (ipykernel)",
   "language": "python",
   "name": "python3"
  },
  "language_info": {
   "codemirror_mode": {
    "name": "ipython",
    "version": 3
   },
   "file_extension": ".py",
   "mimetype": "text/x-python",
   "name": "python",
   "nbconvert_exporter": "python",
   "pygments_lexer": "ipython3",
   "version": "3.9.12"
  }
 },
 "nbformat": 4,
 "nbformat_minor": 5
}
