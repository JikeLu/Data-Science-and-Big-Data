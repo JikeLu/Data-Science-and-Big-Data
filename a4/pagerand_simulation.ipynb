{
 "cells": [
  {
   "cell_type": "code",
   "execution_count": 4,
   "id": "218a9fc2",
   "metadata": {},
   "outputs": [],
   "source": [
    "import random"
   ]
  },
  {
   "cell_type": "code",
   "execution_count": 5,
   "id": "3a13c7c4",
   "metadata": {},
   "outputs": [],
   "source": [
    "def read_graph(fname):\n",
    "    graph = {}\n",
    "    with open(fname, 'r') as file:\n",
    "        for line in file:\n",
    "            parts = line.strip().split()\n",
    "            if parts:\n",
    "                node = parts[0]\n",
    "                neighbors = parts[1:]\n",
    "                graph[node] = neighbors\n",
    "    return graph\n",
    "\n",
    "def random_walk(graph, walk_len=1000, beta=0.85):\n",
    "    current_page = random.choice(list(graph.keys()))\n",
    "    for _ in range(walk_len):\n",
    "        r = random.random()\n",
    "        if r <= beta and graph[current_page]:\n",
    "            current_page = random.choice(graph[current_page])\n",
    "        else:\n",
    "            current_page = random.choice(list(graph.keys()))\n",
    "    return current_page\n",
    "\n",
    "def simulate_pagerank(fname, walk_len=1000, iter=1000, beta=0.85):\n",
    "    graph = read_graph(fname)\n",
    "    page_counts = {page: 0 for page in graph.keys()}\n",
    "    random.seed(1)\n",
    "    for _ in range(iter):\n",
    "        final_page = random_walk(graph, walk_len, beta)\n",
    "        page_counts[final_page] += 1\n",
    "    \n",
    "    pagerank = {page: count / iter for page, count in page_counts.items()}\n",
    "    for page in sorted(pagerank.keys()):\n",
    "        print(f\"{page} {pagerank[page]:.3f}\")\n",
    "    \n",
    "    return pagerank\n"
   ]
  },
  {
   "cell_type": "code",
   "execution_count": 6,
   "id": "fce36364",
   "metadata": {},
   "outputs": [
    {
     "name": "stdout",
     "output_type": "stream",
     "text": [
      "A 0.379\n",
      "B 0.206\n",
      "C 0.370\n",
      "D 0.045\n"
     ]
    },
    {
     "data": {
      "text/plain": [
       "{'A': 0.379, 'B': 0.206, 'C': 0.37, 'D': 0.045}"
      ]
     },
     "execution_count": 6,
     "metadata": {},
     "output_type": "execute_result"
    }
   ],
   "source": [
    "simulate_pagerank('graph-1.txt', walk_len=1000, iter=1000, beta=0.85)"
   ]
  },
  {
   "cell_type": "code",
   "execution_count": 8,
   "id": "77e7fcab",
   "metadata": {},
   "outputs": [
    {
     "name": "stdout",
     "output_type": "stream",
     "text": [
      "A 0.466\n",
      "B 0.045\n",
      "C 0.058\n",
      "D 0.053\n",
      "E 0.051\n",
      "F 0.061\n",
      "G 0.047\n",
      "H 0.064\n",
      "I 0.062\n",
      "J 0.047\n",
      "K 0.046\n"
     ]
    },
    {
     "data": {
      "text/plain": [
       "{'A': 0.466,\n",
       " 'B': 0.045,\n",
       " 'C': 0.058,\n",
       " 'D': 0.053,\n",
       " 'E': 0.051,\n",
       " 'F': 0.061,\n",
       " 'G': 0.047,\n",
       " 'H': 0.064,\n",
       " 'I': 0.062,\n",
       " 'J': 0.047,\n",
       " 'K': 0.046}"
      ]
     },
     "execution_count": 8,
     "metadata": {},
     "output_type": "execute_result"
    }
   ],
   "source": [
    "simulate_pagerank('wikipedia-example.txt', walk_len=1000, iter=1000, beta=0.85)"
   ]
  },
  {
   "cell_type": "code",
   "execution_count": null,
   "id": "d4a28a68",
   "metadata": {},
   "outputs": [],
   "source": []
  }
 ],
 "metadata": {
  "kernelspec": {
   "display_name": "Python 3 (ipykernel)",
   "language": "python",
   "name": "python3"
  },
  "language_info": {
   "codemirror_mode": {
    "name": "ipython",
    "version": 3
   },
   "file_extension": ".py",
   "mimetype": "text/x-python",
   "name": "python",
   "nbconvert_exporter": "python",
   "pygments_lexer": "ipython3",
   "version": "3.9.12"
  }
 },
 "nbformat": 4,
 "nbformat_minor": 5
}
